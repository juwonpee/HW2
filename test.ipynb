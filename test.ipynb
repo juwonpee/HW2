{
 "cells": [
  {
   "cell_type": "code",
   "execution_count": 1,
   "metadata": {},
   "outputs": [],
   "source": [
    "import os\n"
   ]
  },
  {
   "cell_type": "code",
   "execution_count": 5,
   "metadata": {},
   "outputs": [],
   "source": [
    "\n",
    "data_dir = './dataset'\n",
    "\n",
    "for x in range(10):\n",
    "    files = os.listdir(data_dir + \"/\" + str(x))\n",
    "    train_files = files[:4000]\n",
    "    train_files_new = [\"./dataset/train/\" + str(x) + \"/\" + e for e in train_files]\n",
    "    test_files = files[4000:5000]\n",
    "    test_files_new = [\"./dataset/test/\" + str(x) + \"/\" + e for e in test_files]\n",
    "    "
   ]
  }
 ],
 "metadata": {
  "kernelspec": {
   "display_name": "Python 3",
   "language": "python",
   "name": "python3"
  },
  "language_info": {
   "codemirror_mode": {
    "name": "ipython",
    "version": 3
   },
   "file_extension": ".py",
   "mimetype": "text/x-python",
   "name": "python",
   "nbconvert_exporter": "python",
   "pygments_lexer": "ipython3",
   "version": "3.10.6"
  },
  "orig_nbformat": 4
 },
 "nbformat": 4,
 "nbformat_minor": 2
}
